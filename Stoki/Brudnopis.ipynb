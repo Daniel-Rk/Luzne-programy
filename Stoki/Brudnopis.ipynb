{
 "cells": [
  {
   "cell_type": "code",
   "execution_count": 1,
   "metadata": {},
   "outputs": [],
   "source": [
    "import pandas as pd\n",
    "import numpy as np\n",
    "import matplotlib.pyplot as plt"
   ]
  },
  {
   "cell_type": "code",
   "execution_count": 2,
   "metadata": {},
   "outputs": [
    {
     "data": {
      "text/html": [
       "<div>\n",
       "<style scoped>\n",
       "    .dataframe tbody tr th:only-of-type {\n",
       "        vertical-align: middle;\n",
       "    }\n",
       "\n",
       "    .dataframe tbody tr th {\n",
       "        vertical-align: top;\n",
       "    }\n",
       "\n",
       "    .dataframe thead th {\n",
       "        text-align: right;\n",
       "    }\n",
       "</style>\n",
       "<table border=\"1\" class=\"dataframe\">\n",
       "  <thead>\n",
       "    <tr style=\"text-align: right;\">\n",
       "      <th></th>\n",
       "      <th>Date</th>\n",
       "      <th>Open</th>\n",
       "      <th>High</th>\n",
       "      <th>Low</th>\n",
       "      <th>Close</th>\n",
       "      <th>Volume</th>\n",
       "    </tr>\n",
       "  </thead>\n",
       "  <tbody>\n",
       "    <tr>\n",
       "      <th>0</th>\n",
       "      <td>2013-01-02</td>\n",
       "      <td>62.650511</td>\n",
       "      <td>63.999416</td>\n",
       "      <td>62.650511</td>\n",
       "      <td>63.999416</td>\n",
       "      <td>48299.023808</td>\n",
       "    </tr>\n",
       "    <tr>\n",
       "      <th>1</th>\n",
       "      <td>2013-01-03</td>\n",
       "      <td>63.500321</td>\n",
       "      <td>65.000058</td>\n",
       "      <td>63.300438</td>\n",
       "      <td>64.899504</td>\n",
       "      <td>92190.398807</td>\n",
       "    </tr>\n",
       "    <tr>\n",
       "      <th>2</th>\n",
       "      <td>2013-01-04</td>\n",
       "      <td>64.899504</td>\n",
       "      <td>65.599708</td>\n",
       "      <td>64.899504</td>\n",
       "      <td>65.549431</td>\n",
       "      <td>31412.958332</td>\n",
       "    </tr>\n",
       "    <tr>\n",
       "      <th>3</th>\n",
       "      <td>2013-01-07</td>\n",
       "      <td>65.549431</td>\n",
       "      <td>65.999474</td>\n",
       "      <td>65.549431</td>\n",
       "      <td>65.900146</td>\n",
       "      <td>76905.113093</td>\n",
       "    </tr>\n",
       "    <tr>\n",
       "      <th>4</th>\n",
       "      <td>2013-01-08</td>\n",
       "      <td>65.900146</td>\n",
       "      <td>66.049752</td>\n",
       "      <td>60.999942</td>\n",
       "      <td>63.999416</td>\n",
       "      <td>80096.071426</td>\n",
       "    </tr>\n",
       "    <tr>\n",
       "      <th>...</th>\n",
       "      <td>...</td>\n",
       "      <td>...</td>\n",
       "      <td>...</td>\n",
       "      <td>...</td>\n",
       "      <td>...</td>\n",
       "      <td>...</td>\n",
       "    </tr>\n",
       "    <tr>\n",
       "      <th>2373</th>\n",
       "      <td>2022-07-06</td>\n",
       "      <td>24.600000</td>\n",
       "      <td>25.130000</td>\n",
       "      <td>23.900000</td>\n",
       "      <td>24.800000</td>\n",
       "      <td>408650.000000</td>\n",
       "    </tr>\n",
       "    <tr>\n",
       "      <th>2374</th>\n",
       "      <td>2022-07-07</td>\n",
       "      <td>25.000000</td>\n",
       "      <td>25.960000</td>\n",
       "      <td>24.630000</td>\n",
       "      <td>25.850000</td>\n",
       "      <td>562927.000000</td>\n",
       "    </tr>\n",
       "    <tr>\n",
       "      <th>2375</th>\n",
       "      <td>2022-07-08</td>\n",
       "      <td>25.630000</td>\n",
       "      <td>26.500000</td>\n",
       "      <td>25.000000</td>\n",
       "      <td>26.440000</td>\n",
       "      <td>610176.000000</td>\n",
       "    </tr>\n",
       "    <tr>\n",
       "      <th>2376</th>\n",
       "      <td>2022-07-11</td>\n",
       "      <td>25.700000</td>\n",
       "      <td>26.390000</td>\n",
       "      <td>25.440000</td>\n",
       "      <td>25.890000</td>\n",
       "      <td>219939.000000</td>\n",
       "    </tr>\n",
       "    <tr>\n",
       "      <th>2377</th>\n",
       "      <td>2022-07-12</td>\n",
       "      <td>25.850000</td>\n",
       "      <td>25.950000</td>\n",
       "      <td>24.570000</td>\n",
       "      <td>24.690000</td>\n",
       "      <td>376403.000000</td>\n",
       "    </tr>\n",
       "  </tbody>\n",
       "</table>\n",
       "<p>2378 rows × 6 columns</p>\n",
       "</div>"
      ],
      "text/plain": [
       "            Date       Open       High        Low      Close         Volume\n",
       "0     2013-01-02  62.650511  63.999416  62.650511  63.999416   48299.023808\n",
       "1     2013-01-03  63.500321  65.000058  63.300438  64.899504   92190.398807\n",
       "2     2013-01-04  64.899504  65.599708  64.899504  65.549431   31412.958332\n",
       "3     2013-01-07  65.549431  65.999474  65.549431  65.900146   76905.113093\n",
       "4     2013-01-08  65.900146  66.049752  60.999942  63.999416   80096.071426\n",
       "...          ...        ...        ...        ...        ...            ...\n",
       "2373  2022-07-06  24.600000  25.130000  23.900000  24.800000  408650.000000\n",
       "2374  2022-07-07  25.000000  25.960000  24.630000  25.850000  562927.000000\n",
       "2375  2022-07-08  25.630000  26.500000  25.000000  26.440000  610176.000000\n",
       "2376  2022-07-11  25.700000  26.390000  25.440000  25.890000  219939.000000\n",
       "2377  2022-07-12  25.850000  25.950000  24.570000  24.690000  376403.000000\n",
       "\n",
       "[2378 rows x 6 columns]"
      ]
     },
     "metadata": {},
     "output_type": "display_data"
    },
    {
     "data": {
      "text/html": [
       "<div>\n",
       "<style scoped>\n",
       "    .dataframe tbody tr th:only-of-type {\n",
       "        vertical-align: middle;\n",
       "    }\n",
       "\n",
       "    .dataframe tbody tr th {\n",
       "        vertical-align: top;\n",
       "    }\n",
       "\n",
       "    .dataframe thead th {\n",
       "        text-align: right;\n",
       "    }\n",
       "</style>\n",
       "<table border=\"1\" class=\"dataframe\">\n",
       "  <thead>\n",
       "    <tr style=\"text-align: right;\">\n",
       "      <th></th>\n",
       "      <th>Date</th>\n",
       "      <th>Open</th>\n",
       "      <th>High</th>\n",
       "      <th>Low</th>\n",
       "      <th>Close</th>\n",
       "    </tr>\n",
       "  </thead>\n",
       "  <tbody>\n",
       "    <tr>\n",
       "      <th>0</th>\n",
       "      <td>2013-01-02</td>\n",
       "      <td>3.06480</td>\n",
       "      <td>3.09170</td>\n",
       "      <td>3.05190</td>\n",
       "      <td>3.08740</td>\n",
       "    </tr>\n",
       "    <tr>\n",
       "      <th>1</th>\n",
       "      <td>2013-01-03</td>\n",
       "      <td>3.09530</td>\n",
       "      <td>3.12420</td>\n",
       "      <td>3.09030</td>\n",
       "      <td>3.11280</td>\n",
       "    </tr>\n",
       "    <tr>\n",
       "      <th>2</th>\n",
       "      <td>2013-01-04</td>\n",
       "      <td>3.14550</td>\n",
       "      <td>3.17280</td>\n",
       "      <td>3.14390</td>\n",
       "      <td>3.15310</td>\n",
       "    </tr>\n",
       "    <tr>\n",
       "      <th>3</th>\n",
       "      <td>2013-01-07</td>\n",
       "      <td>3.15640</td>\n",
       "      <td>3.16760</td>\n",
       "      <td>3.14330</td>\n",
       "      <td>3.14350</td>\n",
       "    </tr>\n",
       "    <tr>\n",
       "      <th>4</th>\n",
       "      <td>2013-01-08</td>\n",
       "      <td>3.14490</td>\n",
       "      <td>3.15570</td>\n",
       "      <td>3.13550</td>\n",
       "      <td>3.14400</td>\n",
       "    </tr>\n",
       "    <tr>\n",
       "      <th>...</th>\n",
       "      <td>...</td>\n",
       "      <td>...</td>\n",
       "      <td>...</td>\n",
       "      <td>...</td>\n",
       "      <td>...</td>\n",
       "    </tr>\n",
       "    <tr>\n",
       "      <th>2373</th>\n",
       "      <td>2022-03-11</td>\n",
       "      <td>4.34843</td>\n",
       "      <td>4.38715</td>\n",
       "      <td>4.32507</td>\n",
       "      <td>4.38370</td>\n",
       "    </tr>\n",
       "    <tr>\n",
       "      <th>2374</th>\n",
       "      <td>2022-03-14</td>\n",
       "      <td>4.38929</td>\n",
       "      <td>4.39541</td>\n",
       "      <td>4.29107</td>\n",
       "      <td>4.33360</td>\n",
       "    </tr>\n",
       "    <tr>\n",
       "      <th>2375</th>\n",
       "      <td>2022-03-15</td>\n",
       "      <td>4.33345</td>\n",
       "      <td>4.34135</td>\n",
       "      <td>4.28410</td>\n",
       "      <td>4.29305</td>\n",
       "    </tr>\n",
       "    <tr>\n",
       "      <th>2376</th>\n",
       "      <td>2022-03-16</td>\n",
       "      <td>4.29245</td>\n",
       "      <td>4.30613</td>\n",
       "      <td>4.21957</td>\n",
       "      <td>4.23500</td>\n",
       "    </tr>\n",
       "    <tr>\n",
       "      <th>2377</th>\n",
       "      <td>2022-03-17</td>\n",
       "      <td>4.23480</td>\n",
       "      <td>4.25925</td>\n",
       "      <td>4.19780</td>\n",
       "      <td>4.22110</td>\n",
       "    </tr>\n",
       "  </tbody>\n",
       "</table>\n",
       "<p>2378 rows × 5 columns</p>\n",
       "</div>"
      ],
      "text/plain": [
       "            Date     Open     High      Low    Close\n",
       "0     2013-01-02  3.06480  3.09170  3.05190  3.08740\n",
       "1     2013-01-03  3.09530  3.12420  3.09030  3.11280\n",
       "2     2013-01-04  3.14550  3.17280  3.14390  3.15310\n",
       "3     2013-01-07  3.15640  3.16760  3.14330  3.14350\n",
       "4     2013-01-08  3.14490  3.15570  3.13550  3.14400\n",
       "...          ...      ...      ...      ...      ...\n",
       "2373  2022-03-11  4.34843  4.38715  4.32507  4.38370\n",
       "2374  2022-03-14  4.38929  4.39541  4.29107  4.33360\n",
       "2375  2022-03-15  4.33345  4.34135  4.28410  4.29305\n",
       "2376  2022-03-16  4.29245  4.30613  4.21957  4.23500\n",
       "2377  2022-03-17  4.23480  4.25925  4.19780  4.22110\n",
       "\n",
       "[2378 rows x 5 columns]"
      ]
     },
     "metadata": {},
     "output_type": "display_data"
    }
   ],
   "source": [
    "df = pd.read_csv('alr_d.csv')\n",
    "df1 = pd.read_csv('usdpln_d.csv')\n",
    "\n",
    "\n",
    "df1 = df1[df1.index.isin(df.index)]\n",
    "\n",
    "display(df)\n",
    "display(df1)"
   ]
  },
  {
   "cell_type": "code",
   "execution_count": 3,
   "metadata": {},
   "outputs": [
    {
     "data": {
      "text/plain": [
       "array([63.99941606, 64.89950365, 65.54943066, ..., 26.44      ,\n",
       "       25.89      , 24.69      ])"
      ]
     },
     "execution_count": 3,
     "metadata": {},
     "output_type": "execute_result"
    },
    {
     "data": {
      "image/png": "[encoded data removed]",
      "text/plain": [
       "<Figure size 432x288 with 1 Axes>"
      ]
     },
     "metadata": {
      "needs_background": "light"
     },
     "output_type": "display_data"
    }
   ],
   "source": [
    "w1 = df['Close']\n",
    "w1.plot()\n",
    "\n",
    "w1.values"
   ]
  },
  {
   "cell_type": "code",
   "execution_count": 4,
   "metadata": {},
   "outputs": [
    {
     "data": {
      "text/plain": [
       "array([3.0874 , 3.1128 , 3.1531 , ..., 4.29305, 4.235  , 4.2211 ])"
      ]
     },
     "execution_count": 4,
     "metadata": {},
     "output_type": "execute_result"
    },
    {
     "data": {
      "image/png": "[encoded data removed]",
      "text/plain": [
       "<Figure size 432x288 with 1 Axes>"
      ]
     },
     "metadata": {
      "needs_background": "light"
     },
     "output_type": "display_data"
    }
   ],
   "source": [
    "w2 = df1['Close']\n",
    "w2.plot()\n",
    "\n",
    "w2.values"
   ]
  },
  {
   "cell_type": "code",
   "execution_count": 5,
   "metadata": {},
   "outputs": [
    {
     "name": "stdout",
     "output_type": "stream",
     "text": [
      "           Alior    USDPLN\n",
      "Alior   1.000000 -0.596635\n",
      "USDPLN -0.596635  1.000000\n"
     ]
    },
    {
     "data": {
      "text/plain": [
       "<AxesSubplot:>"
      ]
     },
     "execution_count": 5,
     "metadata": {},
     "output_type": "execute_result"
    },
    {
     "data": {
      "image/png": "[encoded data removed]",
      "text/plain": [
       "<Figure size 432x288 with 2 Axes>"
      ]
     },
     "metadata": {
      "needs_background": "light"
     },
     "output_type": "display_data"
    }
   ],
   "source": [
    "import seaborn as sns\n",
    "\n",
    "\n",
    "data = {'Alior':w1.values, 'USDPLN':w2.values}\n",
    "\n",
    "\n",
    "\n",
    "df3 = pd.DataFrame(data)\n",
    "\n",
    "print(df3.corr())\n",
    "sns.heatmap(df3.corr())\n"
   ]
  }
 ],
 "metadata": {
  "kernelspec": {
   "display_name": "Python 3.8.10",
   "language": "python",
   "name": "python3"
  },
  "language_info": {
   "codemirror_mode": {
    "name": "ipython",
    "version": 3
   },
   "file_extension": ".py",
   "mimetype": "text/x-python",
   "name": "python",
   "nbconvert_exporter": "python",
   "pygments_lexer": "ipython3",
   "version": "3.8.10 (default, May 19 2021, 13:12:57) [MSC v.1916 64 bit (AMD64)]"
  },
  "orig_nbformat": 4,
  "vscode": {
   "interpreter": {
    "hash": "a71a9e4fb054fff428071484f7faa898cb9ecb31a518fe88e3463da9af879578"
   }
  }
 },
 "nbformat": 4,
 "nbformat_minor": 2
}
